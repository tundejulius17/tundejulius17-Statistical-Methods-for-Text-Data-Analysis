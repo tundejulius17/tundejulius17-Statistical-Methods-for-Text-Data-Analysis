{
 "cells": [
  {
   "cell_type": "markdown",
   "id": "careful-peripheral",
   "metadata": {},
   "source": [
    "### Exercise 2 - Web crawling using BeautifulSoup and text processing\n"
   ]
  },
  {
   "cell_type": "code",
   "execution_count": 7,
   "id": "paperback-verse",
   "metadata": {},
   "outputs": [],
   "source": [
    "import requests\n",
    "from bs4 import BeautifulSoup\n",
    "import re\n",
    "import nltk\n",
    "import numpy as np"
   ]
  },
  {
   "cell_type": "markdown",
   "id": "decent-saying",
   "metadata": {},
   "source": [
    "### Exercise 2.1"
   ]
  },
  {
   "cell_type": "markdown",
   "id": "computational-fight",
   "metadata": {},
   "source": [
    "#### 1. To avoid crawling the same page multiple times, we make sure that we consistently format all links discovered. For this purpose, the links are kept in a running set as the program is running. A set only stores unique elements. \n",
    "\n",
    "#### 2. To avoid the second pitfall of the web crawler, we can impose a condition on the number of links crawled from each page. For example, if the total number of pages to crawl is 10, we can restrict the number of links returned by each page from the seed page to 2."
   ]
  },
  {
   "cell_type": "code",
   "execution_count": 2,
   "id": "based-innocent",
   "metadata": {},
   "outputs": [],
   "source": [
    "#%% Find linked pages in Finnish sites, but not PDF or PS files\n",
    "def getpageurls(webpage_parsed):\n",
    " # Find elements that are hyperlinks\n",
    "    pagelinkelements=webpage_parsed.find_all('a')\n",
    "    pageurls=[];\n",
    "    for pagelink in pagelinkelements:\n",
    "        pageurl_isok=1\n",
    "        try:\n",
    "            pageurl=pagelink['href']\n",
    "        except:\n",
    "            pageurl_isok=0\n",
    "        if pageurl_isok==1:\n",
    "            # Check that the url does NOT contain these strings\n",
    "            if (pageurl.find('.pdf')!=-1)|(pageurl.find('.ps')!=-1):\n",
    "                pageurl_isok=0\n",
    "            # Check that the url DOES contain these strings\n",
    "            if (pageurl.find('http')==-1)|(pageurl.find('.fi')==-1):\n",
    "                pageurl_isok=0\n",
    "        if pageurl_isok==1:\n",
    "            pageurls.append(pageurl)\n",
    "   \n",
    "    return(pageurls)"
   ]
  },
  {
   "cell_type": "code",
   "execution_count": 8,
   "id": "unlimited-fitting",
   "metadata": {},
   "outputs": [],
   "source": [
    "#%% Get the text content of the page\n",
    "def getpagetext(parsedpage):\n",
    "    # Remove HTML elements that are scripts\n",
    "    scriptelements=parsedpage.find_all('script')\n",
    "    # Concatenate the text content from all table cells\n",
    "    for scriptelement in scriptelements:\n",
    "        # Extract this script element from the page.\n",
    "        # This changes the page given to this function!\n",
    "        scriptelement.extract()\n",
    "    pagetext=parsedpage.get_text()\n",
    "    return(pagetext)"
   ]
  },
  {
   "cell_type": "code",
   "execution_count": 3,
   "id": "raised-magic",
   "metadata": {},
   "outputs": [],
   "source": [
    "crawled_urls = set() # stores the crawled urls\n",
    "def basicwebcrawler(seedpage_url,maxpages):\n",
    "    # Store URLs crawled and their text content\n",
    "    num_pages_crawled=0\n",
    "    #crawled_urls=[]\n",
    "    global crawled_urls\n",
    "    crawled_texts=[]\n",
    "    # Remaining pages to crawl: start from a seed page URL\n",
    "    pagestocrawl=[seedpage_url]\n",
    "    # Process remaining pages until a desired number\n",
    "    # of pages have been found\n",
    "    while (num_pages_crawled<maxpages)&(len(pagestocrawl)>0):\n",
    "        # Retrieve the topmost remaining page and parse it\n",
    "        pagetocrawl_url=pagestocrawl[0]\n",
    "        print('Getting page:')\n",
    "        print(pagetocrawl_url)\n",
    "        pagetocrawl_html=requests.get(pagetocrawl_url)\n",
    "        pagetocrawl_parsed=BeautifulSoup(pagetocrawl_html.content,'html.parser')\n",
    "        # Get the text and URLs of the page\n",
    "        # we check if pagetocrawl_url is already crawled\n",
    "        if pagetocrawl_url not in crawled_urls:\n",
    "            pagetocrawl_text=getpagetext(pagetocrawl_parsed)\n",
    "            pagetocrawl_urls=getpageurls(pagetocrawl_parsed)\n",
    "            num_pages_crawled=num_pages_crawled+1\n",
    "            crawled_urls.add(pagetocrawl_url)\n",
    "            crawled_texts.append(pagetocrawl_text)\n",
    "            pagestocrawl=pagestocrawl[1:len(pagestocrawl)]\n",
    "            pagestocrawl.extend(pagetocrawl_urls)\n",
    "            \n",
    "    return(crawled_urls,crawled_texts, num_pages_crawled)\n"
   ]
  },
  {
   "cell_type": "code",
   "execution_count": 20,
   "id": "technological-trustee",
   "metadata": {},
   "outputs": [
    {
     "name": "stdout",
     "output_type": "stream",
     "text": [
      "Getting page:\n",
      "https://homepages.tuni.fi/jaakko.peltonen/\n",
      "Getting page:\n",
      "https://www.tuni.fi/en\n",
      "Getting page:\n",
      "https://www.tuni.fi/en/about-us/faculty-information-technology-and-communication-sciences\n",
      "Getting page:\n",
      "https://www.tuni.fi/en/about-us/computing-sciences\n",
      "Getting page:\n",
      "http://cs.aalto.fi/en/\n",
      "Getting page:\n",
      "http://www.cis.hut.fi/projects/mi\n",
      "Getting page:\n",
      "http://users.ics.aalto.fi/jtpelto/\n",
      "Getting page:\n",
      "http://research.ics.aalto.fi/coin/\n",
      "Getting page:\n",
      "https://www.tuni.fi/studentsguide/curriculum/degree-programmes/uta-tohjelma-1717?year=2019\n",
      "Getting page:\n",
      "https://www.tuni.fi/en/study-with-us/computing-sciences-data-science?navref=curated--list\n"
     ]
    }
   ],
   "source": [
    "crawled_urls, crawled_texts, num_pages_crawled = basicwebcrawler('https://homepages.tuni.fi/jaakko.peltonen/', 10)"
   ]
  },
  {
   "cell_type": "code",
   "execution_count": 22,
   "id": "sapphire-country",
   "metadata": {},
   "outputs": [
    {
     "data": {
      "text/plain": [
       "{'http://cs.aalto.fi/en/',\n",
       " 'http://research.ics.aalto.fi/coin/',\n",
       " 'http://users.ics.aalto.fi/jtpelto/',\n",
       " 'http://www.cis.hut.fi/projects/mi',\n",
       " 'https://homepages.tuni.fi/jaakko.peltonen/',\n",
       " 'https://www.tuni.fi/en',\n",
       " 'https://www.tuni.fi/en/about-us/computing-sciences',\n",
       " 'https://www.tuni.fi/en/about-us/faculty-information-technology-and-communication-sciences',\n",
       " 'https://www.tuni.fi/en/study-with-us/computing-sciences-data-science?navref=curated--list',\n",
       " 'https://www.tuni.fi/studentsguide/curriculum/degree-programmes/uta-tohjelma-1717?year=2019'}"
      ]
     },
     "execution_count": 22,
     "metadata": {},
     "output_type": "execute_result"
    }
   ],
   "source": [
    "crawled_urls"
   ]
  },
  {
   "cell_type": "markdown",
   "id": "filled-guard",
   "metadata": {},
   "source": [
    "### Exercise 2.2"
   ]
  },
  {
   "cell_type": "code",
   "execution_count": 9,
   "id": "handmade-possession",
   "metadata": {},
   "outputs": [],
   "source": [
    "ebook_addresses = set() # stores unique ebook addresses\n",
    "def top_k_downloaded_ebooks(seed_page_url, top_k):\n",
    "    global ebook_addresses\n",
    "    ebook_names = []\n",
    "    num_downloaded_ebooks = 0\n",
    "    downloaded_texts = []\n",
    "    download_base_url = 'https://www.gutenberg.org/files/'\n",
    "    seed_page_parsed = requests.get(seed_page_url)\n",
    "    soup = BeautifulSoup(seed_page_parsed.content, 'html.parser')\n",
    "    h2_tag = soup.find(id='books-last30')\n",
    "    ol_tag = h2_tag.next_sibling.next_sibling\n",
    "    for a_tag in ol_tag.find_all('a'):\n",
    "        # find matching pattern for ebook name\n",
    "        name_match = re.match(r'(.*)(\\(\\d+\\))', a_tag.text)\n",
    "        ebook_name = name_match.group(1).strip()\n",
    "        # find matching pattern for ebook id\n",
    "        id_match = re.match(r'/ebooks/(\\d+)', a_tag.get('href'))\n",
    "        ebook_id = id_match.group(1)\n",
    "        # form download url of an ebook\n",
    "        ebook_url = download_base_url + ebook_id + '/' + ebook_id + '-0.txt'\n",
    "        # avoid downloading same text document multiple times\n",
    "        if (ebook_url not in ebook_addresses) & (num_downloaded_ebooks < top_k):\n",
    "            print('Downloading text file from:')\n",
    "            print(ebook_url)\n",
    "            ebook_page = requests.get(ebook_url)\n",
    "            parsed_page = BeautifulSoup(ebook_page.content, 'html.parser')\n",
    "            # get text from the ebook\n",
    "            ebook_text = getpagetext(parsed_page)\n",
    "            start_index = ebook_text.find('*** START OF THE PROJECT GUTENBERG EBOOK')\n",
    "            end_index = ebook_text.find('*** END OF THE PROJECT GUTENBERG EBOOK')\n",
    "            ebook_text = ebook_text[start_index:end_index]\n",
    "            # remove leading and trailing whitespaces\n",
    "            ebook_text = ebook_text.strip()\n",
    "            ebook_text = ' '.join(ebook_text.split())\n",
    "            # store book content\n",
    "            downloaded_texts.append(ebook_text)\n",
    "            ebook_addresses.add(ebook_url)\n",
    "            ebook_names.append(ebook_name)\n",
    "            num_downloaded_ebooks += 1\n",
    "            \n",
    "                \n",
    "    return(downloaded_texts, ebook_names, ebook_addresses, num_downloaded_ebooks)\n",
    "     "
   ]
  },
  {
   "cell_type": "code",
   "execution_count": 10,
   "id": "occupied-guidance",
   "metadata": {},
   "outputs": [
    {
     "name": "stdout",
     "output_type": "stream",
     "text": [
      "Downloading text file from:\n",
      "https://www.gutenberg.org/files/84/84-0.txt\n",
      "Downloading text file from:\n",
      "https://www.gutenberg.org/files/1342/1342-0.txt\n",
      "Downloading text file from:\n",
      "https://www.gutenberg.org/files/25344/25344-0.txt\n",
      "Downloading text file from:\n",
      "https://www.gutenberg.org/files/11/11-0.txt\n",
      "Downloading text file from:\n",
      "https://www.gutenberg.org/files/345/345-0.txt\n",
      "Downloading text file from:\n",
      "https://www.gutenberg.org/files/2701/2701-0.txt\n",
      "Downloading text file from:\n",
      "https://www.gutenberg.org/files/2542/2542-0.txt\n",
      "Downloading text file from:\n",
      "https://www.gutenberg.org/files/46/46-0.txt\n",
      "Downloading text file from:\n",
      "https://www.gutenberg.org/files/174/174-0.txt\n",
      "Downloading text file from:\n",
      "https://www.gutenberg.org/files/41/41-0.txt\n"
     ]
    }
   ],
   "source": [
    "downloaded_texts, ebook_names, ebook_addresses, num_downloaded_ebooks = top_k_downloaded_ebooks(\n",
    "    'https://www.gutenberg.org/browse/scores/top', 10)"
   ]
  },
  {
   "cell_type": "code",
   "execution_count": 11,
   "id": "monetary-placement",
   "metadata": {},
   "outputs": [
    {
     "data": {
      "text/plain": [
       "['Frankenstein; Or, The Modern Prometheus by Mary Wollstonecraft Shelley',\n",
       " 'Pride and Prejudice by Jane Austen',\n",
       " 'The Scarlet Letter by Nathaniel Hawthorne',\n",
       " \"Alice's Adventures in Wonderland by Lewis Carroll\",\n",
       " 'Dracula by Bram Stoker',\n",
       " 'Moby Dick; Or, The Whale by Herman Melville',\n",
       " \"A Doll's House : a play by Henrik Ibsen\",\n",
       " 'A Christmas Carol in Prose; Being a Ghost Story of Christmas by Charles Dickens',\n",
       " 'The Picture of Dorian Gray by Oscar Wilde',\n",
       " 'The Legend of Sleepy Hollow by Washington Irving']"
      ]
     },
     "execution_count": 11,
     "metadata": {},
     "output_type": "execute_result"
    }
   ],
   "source": [
    "ebook_names"
   ]
  },
  {
   "cell_type": "code",
   "execution_count": 8,
   "id": "foster-karen",
   "metadata": {},
   "outputs": [
    {
     "data": {
      "text/plain": [
       "{'https://www.gutenberg.org/files/1080/1080-0.txt',\n",
       " 'https://www.gutenberg.org/files/11/11-0.txt',\n",
       " 'https://www.gutenberg.org/files/1232/1232-0.txt',\n",
       " 'https://www.gutenberg.org/files/1260/1260-0.txt',\n",
       " 'https://www.gutenberg.org/files/1342/1342-0.txt',\n",
       " 'https://www.gutenberg.org/files/1661/1661-0.txt',\n",
       " 'https://www.gutenberg.org/files/174/174-0.txt',\n",
       " 'https://www.gutenberg.org/files/1952/1952-0.txt',\n",
       " 'https://www.gutenberg.org/files/25344/25344-0.txt',\n",
       " 'https://www.gutenberg.org/files/2542/2542-0.txt',\n",
       " 'https://www.gutenberg.org/files/2701/2701-0.txt',\n",
       " 'https://www.gutenberg.org/files/345/345-0.txt',\n",
       " 'https://www.gutenberg.org/files/408/408-0.txt',\n",
       " 'https://www.gutenberg.org/files/41/41-0.txt',\n",
       " 'https://www.gutenberg.org/files/43/43-0.txt',\n",
       " 'https://www.gutenberg.org/files/46/46-0.txt',\n",
       " 'https://www.gutenberg.org/files/5200/5200-0.txt',\n",
       " 'https://www.gutenberg.org/files/64317/64317-0.txt',\n",
       " 'https://www.gutenberg.org/files/84/84-0.txt',\n",
       " 'https://www.gutenberg.org/files/98/98-0.txt'}"
      ]
     },
     "execution_count": 8,
     "metadata": {},
     "output_type": "execute_result"
    }
   ],
   "source": [
    "ebook_addresses"
   ]
  },
  {
   "cell_type": "code",
   "execution_count": 12,
   "id": "higher-detail",
   "metadata": {},
   "outputs": [],
   "source": [
    "# Tokenize downloaded texts and change them to NLTK format\n",
    "mydownloaded_nltk_texts = []\n",
    "for k in range(len(downloaded_texts)):\n",
    "    temp_tokenizedtext = nltk.word_tokenize(downloaded_texts[k])\n",
    "    temp_nltktext = nltk.Text(temp_tokenizedtext)\n",
    "    mydownloaded_nltk_texts.append(temp_nltktext)"
   ]
  },
  {
   "cell_type": "code",
   "execution_count": 13,
   "id": "direct-drunk",
   "metadata": {},
   "outputs": [
    {
     "data": {
      "text/plain": [
       "<Text: ...>"
      ]
     },
     "execution_count": 13,
     "metadata": {},
     "output_type": "execute_result"
    }
   ],
   "source": [
    "mydownloaded_nltk_texts[9]"
   ]
  },
  {
   "cell_type": "code",
   "execution_count": 14,
   "id": "million-anchor",
   "metadata": {},
   "outputs": [],
   "source": [
    "# Make all downloaded texts lowercase\n",
    "mydownloaded_lowercase_texts = []\n",
    "for k in range(len(mydownloaded_nltk_texts)):\n",
    "    temp_lowercase_text = []\n",
    "    for l in range(len(mydownloaded_nltk_texts[k])):\n",
    "        lowercase_word = mydownloaded_nltk_texts[k][l].lower()\n",
    "        temp_lowercase_text.append(lowercase_word)\n",
    "    temp_lowercasetest = nltk.Text(temp_lowercase_text)\n",
    "    mydownloaded_lowercase_texts.append(temp_lowercase_text)"
   ]
  },
  {
   "cell_type": "code",
   "execution_count": 15,
   "id": "configured-aggregate",
   "metadata": {},
   "outputs": [
    {
     "data": {
      "text/plain": [
       "'bennet'"
      ]
     },
     "execution_count": 15,
     "metadata": {},
     "output_type": "execute_result"
    }
   ],
   "source": [
    "mydownloaded_lowercase_texts[1][1567]"
   ]
  },
  {
   "cell_type": "code",
   "execution_count": 16,
   "id": "streaming-equilibrium",
   "metadata": {},
   "outputs": [],
   "source": [
    "# Convert a POS tag for WordNet\n",
    "def tagtowordnet(postag):\n",
    "    wordnettag=-1\n",
    "    if postag[0]=='N':\n",
    "        wordnettag='n'\n",
    "    elif postag[0]=='V':\n",
    "        wordnettag='v'\n",
    "    elif postag[0]=='J':\n",
    "        wordnettag='a'\n",
    "    elif postag[0]=='R':\n",
    "        wordnettag='r'\n",
    "    return(wordnettag)"
   ]
  },
  {
   "cell_type": "code",
   "execution_count": 17,
   "id": "intended-capacity",
   "metadata": {},
   "outputs": [
    {
     "name": "stderr",
     "output_type": "stream",
     "text": [
      "[nltk_data] Downloading package averaged_perceptron_tagger to\n",
      "[nltk_data]     C:\\Users\\tunde\\AppData\\Roaming\\nltk_data...\n",
      "[nltk_data]   Package averaged_perceptron_tagger is already up-to-\n",
      "[nltk_data]       date!\n",
      "[nltk_data] Downloading package wordnet to\n",
      "[nltk_data]     C:\\Users\\tunde\\AppData\\Roaming\\nltk_data...\n",
      "[nltk_data]   Package wordnet is already up-to-date!\n"
     ]
    }
   ],
   "source": [
    "# POS tag and lemmatize the loaded texts\n",
    "# Download tagger and wordnet resources if you do not have them already\n",
    "nltk.download('averaged_perceptron_tagger')\n",
    "nltk.download('wordnet')\n",
    "\n",
    "# lemmatize downloaded texts\n",
    "lemmatizer = nltk.stem.WordNetLemmatizer()\n",
    "\n",
    "def lemmatizetext(nltktexttolemmatize):\n",
    "    # tag the text with POS tags\n",
    "    taggedtext = nltk.pos_tag(nltktexttolemmatize)\n",
    "    # lemmatize each word text\n",
    "    lemmatizedtext = []\n",
    "    for l in range(len(taggedtext)):\n",
    "        # Lemmatize a word using the WordNet converted POS tag\n",
    "        wordtolemmatize = taggedtext[l][0]\n",
    "        wordnettag = tagtowordnet(taggedtext[l][1])\n",
    "        if wordnettag != -1:\n",
    "            lemmatizedword = lemmatizer.lemmatize(wordtolemmatize, wordnettag)\n",
    "        else:\n",
    "            lemmatizedword = wordtolemmatize\n",
    "        # store the lemmatized word\n",
    "        lemmatizedtext.append(lemmatizedword)\n",
    "    return(lemmatizedtext)\n",
    "\n",
    "mydownloaded_lemmatizedtexts = []\n",
    "for k in range(len(mydownloaded_lowercase_texts)):\n",
    "    lemmatizedtext = lemmatizetext(mydownloaded_lowercase_texts[k])\n",
    "    lemmatizedtext = nltk.Text(lemmatizedtext)\n",
    "    mydownloaded_lemmatizedtexts.append(lemmatizedtext)"
   ]
  },
  {
   "cell_type": "code",
   "execution_count": 18,
   "id": "published-smart",
   "metadata": {},
   "outputs": [
    {
     "data": {
      "text/plain": [
       "10"
      ]
     },
     "execution_count": 18,
     "metadata": {},
     "output_type": "execute_result"
    }
   ],
   "source": [
    "len(mydownloaded_lemmatizedtexts)"
   ]
  },
  {
   "cell_type": "code",
   "execution_count": 19,
   "id": "dried-completion",
   "metadata": {},
   "outputs": [],
   "source": [
    "# find the vocabularies of each document\n",
    "myvocabularies = []\n",
    "myindices_in_vocabularies = []\n",
    "for k in range(len(mydownloaded_lemmatizedtexts)):\n",
    "    # get unique words and where they occur\n",
    "    temptext = mydownloaded_lemmatizedtexts[k]\n",
    "    unique_results = np.unique(temptext, return_inverse = True)\n",
    "    unique_words = unique_results[0]\n",
    "    word_indices = unique_results[1]\n",
    "    # store the vocabularies and the indices\n",
    "    myvocabularies.append(unique_words)\n",
    "    myindices_in_vocabularies.append(word_indices)"
   ]
  },
  {
   "cell_type": "code",
   "execution_count": 20,
   "id": "least-vienna",
   "metadata": {},
   "outputs": [
    {
     "data": {
      "text/plain": [
       "10"
      ]
     },
     "execution_count": 20,
     "metadata": {},
     "output_type": "execute_result"
    }
   ],
   "source": [
    "len(myvocabularies)"
   ]
  },
  {
   "cell_type": "code",
   "execution_count": 21,
   "id": "brave-plant",
   "metadata": {},
   "outputs": [],
   "source": [
    "# unify the vocabularies\n",
    "# first concatenate all vocabularies\n",
    "tempvocabulary = []\n",
    "for k in range(len(mydownloaded_lemmatizedtexts)):\n",
    "    tempvocabulary.extend(myvocabularies[k])\n",
    "\n",
    "# find unique words among all the vocabularies\n",
    "uniqueresults = np.unique(tempvocabulary, return_inverse = True)\n",
    "unifiedvocabulary = uniqueresults[0]\n",
    "wordindices = uniqueresults[1]"
   ]
  },
  {
   "cell_type": "code",
   "execution_count": 22,
   "id": "synthetic-montana",
   "metadata": {},
   "outputs": [
    {
     "data": {
      "text/plain": [
       "28172"
      ]
     },
     "execution_count": 22,
     "metadata": {},
     "output_type": "execute_result"
    }
   ],
   "source": [
    "len(unifiedvocabulary)"
   ]
  },
  {
   "cell_type": "code",
   "execution_count": 21,
   "id": "dominant-cooper",
   "metadata": {},
   "outputs": [],
   "source": [
    "# translate previous indices to the unified vocabulary\n",
    "# must keep track where each vocabulary started in the concatenated one\n",
    "vocabularystart = 0\n",
    "myindices_in_unifiedvocabulary = []\n",
    "for k in range(len(mydownloaded_lemmatizedtexts)):\n",
    "    # in order to shift word indices, we must temporarily\n",
    "    # convert their data type to a numpy array\n",
    "    tempindices = np.array(myindices_in_vocabularies[k])\n",
    "    tempindices = tempindices + vocabularystart\n",
    "    tempindices = wordindices[tempindices]\n",
    "    myindices_in_unifiedvocabulary.append(tempindices)\n",
    "    vocabularystart = vocabularystart + len(myvocabularies[k])"
   ]
  },
  {
   "cell_type": "code",
   "execution_count": 22,
   "id": "behind-document",
   "metadata": {},
   "outputs": [
    {
     "data": {
      "text/plain": [
       "40095"
      ]
     },
     "execution_count": 22,
     "metadata": {},
     "output_type": "execute_result"
    }
   ],
   "source": [
    "len(unifiedvocabulary)"
   ]
  },
  {
   "cell_type": "code",
   "execution_count": 23,
   "id": "incredible-mapping",
   "metadata": {},
   "outputs": [
    {
     "data": {
      "text/plain": [
       "array([  154, 38440, 25757, 38678,  3994, 32857, 38160,   154, 14015,\n",
       "        3167, 39391,  3994,  3167, 16241,  3167,  2764, 24308, 34399,\n",
       "         154, 23136,  4532, 22450, 20775, 39391, 34385,  4392, 24308,\n",
       "       34385, 25387, 40093, 40092, 23306,  9324,   154, 39391, 13717,\n",
       "       22043,   160, 17768,  6383,   950, 16506, 23306, 30822, 24308,\n",
       "        4047,   154,  5683, 17768, 10679, 23930, 27038, 34980,  3994,\n",
       "        2776, 12727, 24015,   160, 38404,  1392, 38919, 16506, 13645,\n",
       "       15793,  9230,   154, 30859, 24771, 34980, 15130, 24873, 34576,\n",
       "       24308, 16845, 25042,  4048, 40093, 40092, 18200, 33337,  6181,\n",
       "         154,  1392, 38919, 16506, 23930, 24372, 23144,  4047, 34980,\n",
       "       34567, 24309, 40093, 40092,  5683,   154, 23306,  9324,   154,\n",
       "       39391, 23269, 18370, 15258,  2568, 30347, 23136,  4532, 38404,\n",
       "       16554,  7491, 19016, 34385, 23577, 40093, 40092, 19271,  3994,\n",
       "       22956, 34339, 17768, 11946, 14015,   154, 17768,  3294, 39392,\n",
       "       40093, 40092,  5683,  7967, 39406,  9230,   160, 24523, 34567,\n",
       "       38376,  2524, 12252, 19271, 39116,  3994, 14015, 24482, 24308,\n",
       "       34399,   160, 31382, 38684,  2568, 20107, 21266,  3994,  9965,\n",
       "       34980, 15258,   154, 22254, 24470, 34352,  1648,   154, 14015,\n",
       "       18200, 14925,   154, 39391, 19993,   154, 34515, 37545, 23805,\n",
       "       23656,   160, 18370, 39391, 23269, 15258,   154, 14015, 19271,\n",
       "       38678,  3994, 18131, 14015,  1321, 34980, 37545, 17085,   154,\n",
       "       17840, 39391, 10679, 23934, 40093, 40092, 39391,  3994, 24873,\n",
       "       30145,   154], dtype=int64)"
      ]
     },
     "execution_count": 23,
     "metadata": {},
     "output_type": "execute_result"
    }
   ],
   "source": [
    "myindices_in_unifiedvocabulary[1][600:800]\n"
   ]
  },
  {
   "cell_type": "code",
   "execution_count": 24,
   "id": "smoking-greene",
   "metadata": {},
   "outputs": [
    {
     "data": {
      "text/plain": [
       "array([',', 'which', 'perhaps', 'will', 'be', 'still', 'well', ',', 'for',\n",
       "       'as', 'you', 'be', 'as', 'handsome', 'as', 'any', 'of', 'them',\n",
       "       ',', 'mr.', 'bingley', 'might', 'like', 'you', 'the', 'best', 'of',\n",
       "       'the', 'party.', '”', '“', 'my', 'dear', ',', 'you', 'flatter',\n",
       "       'me', '.', 'i', 'certainly', '_have_', 'have', 'my', 'share', 'of',\n",
       "       'beauty', ',', 'but', 'i', 'do', 'not', 'pretend', 'to', 'be',\n",
       "       'anything', 'extraordinary', 'now', '.', 'when', 'a', 'woman',\n",
       "       'have', 'five', 'grown-up', 'daughter', ',', 'she', 'ought', 'to',\n",
       "       'give', 'over', 'thinking', 'of', 'her', 'own', 'beauty.', '”',\n",
       "       '“', 'in', 'such', 'case', ',', 'a', 'woman', 'have', 'not',\n",
       "       'often', 'much', 'beauty', 'to', 'think', 'of.', '”', '“', 'but',\n",
       "       ',', 'my', 'dear', ',', 'you', 'must', 'indeed', 'go', 'and',\n",
       "       'see', 'mr.', 'bingley', 'when', 'he', 'come', 'into', 'the',\n",
       "       'neighbourhood.', '”', '“', 'it', 'be', 'more', 'than', 'i',\n",
       "       'engage', 'for', ',', 'i', 'assure', 'you.', '”', '“', 'but',\n",
       "       'consider', 'your', 'daughter', '.', 'only', 'think', 'what', 'an',\n",
       "       'establishment', 'it', 'would', 'be', 'for', 'one', 'of', 'them',\n",
       "       '.', 'sir', 'william', 'and', 'lady', 'lucas', 'be', 'determine',\n",
       "       'to', 'go', ',', 'merely', 'on', 'that', 'account', ',', 'for',\n",
       "       'in', 'general', ',', 'you', 'know', ',', 'they', 'visit', 'no',\n",
       "       'newcomer', '.', 'indeed', 'you', 'must', 'go', ',', 'for', 'it',\n",
       "       'will', 'be', 'impossible', 'for', '_us_', 'to', 'visit', 'him',\n",
       "       ',', 'if', 'you', 'do', 'not.', '”', '“', 'you', 'be', 'over',\n",
       "       'scrupulous', ','], dtype='<U54')"
      ]
     },
     "execution_count": 24,
     "metadata": {},
     "output_type": "execute_result"
    }
   ],
   "source": [
    "unifiedvocabulary[myindices_in_unifiedvocabulary[1][600:800]]"
   ]
  },
  {
   "cell_type": "code",
   "execution_count": 25,
   "id": "sharing-pharmacology",
   "metadata": {},
   "outputs": [
    {
     "data": {
      "text/plain": [
       "(20, 20)"
      ]
     },
     "execution_count": 25,
     "metadata": {},
     "output_type": "execute_result"
    }
   ],
   "source": [
    "len(myindices_in_unifiedvocabulary), len(mydownloaded_lemmatizedtexts)"
   ]
  },
  {
   "cell_type": "code",
   "execution_count": 26,
   "id": "compliant-blair",
   "metadata": {},
   "outputs": [],
   "source": [
    "# total count of each unique word over all the downloaded documents\n",
    "unifiedvocabulary_totaloccurrencecounts=np.zeros((len(unifiedvocabulary),1))\n",
    "# total number of documents where a unique word appears\n",
    "unifiedvocabulary_documentcounts=np.zeros((len(unifiedvocabulary),1))\n",
    "# mean count of unique word over all documents\n",
    "unifiedvocabulary_meancounts=np.zeros((len(unifiedvocabulary),1))\n",
    "# variance over documents\n",
    "unifiedvocabulary_countvariances=np.zeros((len(unifiedvocabulary),1))\n",
    "\n",
    "# count occurrences\n",
    "for k in range(len(mydownloaded_lemmatizedtexts)):\n",
    "    occurrencecounts = np.zeros((len(unifiedvocabulary), 1))\n",
    "    for l in range(len(myindices_in_unifiedvocabulary[k])):\n",
    "        occurrencecounts[myindices_in_unifiedvocabulary[k][l]] = (occurrencecounts[myindices_in_unifiedvocabulary[k][l]]\n",
    "                                                                 + 1)\n",
    "    unifiedvocabulary_totaloccurrencecounts = unifiedvocabulary_totaloccurrencecounts + occurrencecounts\n",
    "    unifiedvocabulary_documentcounts = unifiedvocabulary_documentcounts + (occurrencecounts > 0)\n",
    "\n",
    "# calculate mean occurrence counts over all documents\n",
    "unifiedvocabulary_meancounts = unifiedvocabulary_totaloccurrencecounts / len(mydownloaded_lemmatizedtexts)\n",
    "\n",
    "\n",
    "        "
   ]
  },
  {
   "cell_type": "code",
   "execution_count": 27,
   "id": "formed-february",
   "metadata": {},
   "outputs": [],
   "source": [
    "# count the variances\n",
    "for k in range(len(mydownloaded_lemmatizedtexts)):\n",
    "    occurrencecounts = np.zeros((len(unifiedvocabulary), 1))\n",
    "    for l in range(len(myindices_in_unifiedvocabulary[k])):\n",
    "        occurrencecounts[myindices_in_unifiedvocabulary[k][l]] = (occurrencecounts[myindices_in_unifiedvocabulary[k][l]]\n",
    "                                                                 + 1)\n",
    "    unifiedvocabulary_countvariances = unifiedvocabulary_countvariances + (occurrencecounts - unifiedvocabulary_meancounts\n",
    "                                                                          ) ** 2\n",
    "unifiedvocabulary_countvariances = unifiedvocabulary_countvariances / (len(mydownloaded_lemmatizedtexts) - 1)"
   ]
  },
  {
   "cell_type": "code",
   "execution_count": 28,
   "id": "figured-degree",
   "metadata": {},
   "outputs": [
    {
     "data": {
      "text/plain": [
       "(40095, 40095)"
      ]
     },
     "execution_count": 28,
     "metadata": {},
     "output_type": "execute_result"
    }
   ],
   "source": [
    "len(unifiedvocabulary_totaloccurrencecounts), len(unifiedvocabulary)"
   ]
  },
  {
   "cell_type": "code",
   "execution_count": 29,
   "id": "polished-vanilla",
   "metadata": {},
   "outputs": [
    {
     "name": "stdout",
     "output_type": "stream",
     "text": [
      "[',' 'the' '.' 'be' 'and' 'of' 'to' 'a' 'i' 'in' 'have' 'that' 'it' '“'\n",
      " '”' 'he' ';' 'his' 'you' 'with' 'as' '’' 'not' 'for' 'my' 'but' 'her'\n",
      " 'at' 'me' '!' 'on' '?' 'she' 'him' 'do' 'all' 'say' 'this' 'so' 'by' 's'\n",
      " 'from' 'which' 'there' 'they' 'one' ':' 'no' 'what' 'when' 'we' 'or' 'if'\n",
      " 'would' 'go' 'an' 'come' 'them' 'now' 'will' 'then' 'know' 'their' 'out'\n",
      " 'your' 'could' 'see' 'who' 'look' 'make' '--' 'up' 'some' 'more' 'into'\n",
      " 'can' 'very' 'mr.' 'time' 'take' 'think' 'like' 'man' 'little' 'than'\n",
      " 'must' 'hand' 't' 'upon' 'its' 'only' 'such' 'before' 'good' '``' 'over'\n",
      " 'any' 'well' 'about' \"''\"]\n",
      "[117829.  79360.  57003.  54627.  49792.  42063.  38840.  31049.  30852.\n",
      "  24518.  22327.  19622.  19316.  19144.  18138.  17804.  16896.  15112.\n",
      "  14079.  12340.  12218.  11905.  10917.  10836.   9872.   9776.   9667.\n",
      "   9308.   8253.   8193.   8181.   7875.   7559.   7475.   7108.   7011.\n",
      "   6642.   6633.   6516.   6384.   6326.   6052.   5761.   5424.   5318.\n",
      "   5152.   4839.   4696.   4659.   4596.   4469.   4308.   4277.   4269.\n",
      "   4156.   4058.   4034.   3620.   3594.   3585.   3548.   3511.   3505.\n",
      "   3439.   3405.   3381.   3317.   3311.   3202.   3178.   3167.   3163.\n",
      "   3153.   3145.   3052.   2933.   2923.   2780.   2777.   2771.   2701.\n",
      "   2666.   2656.   2523.   2389.   2332.   2315.   2295.   2290.   2273.\n",
      "   2252.   2250.   2226.   2225.   2195.   2166.   2164.   2156.   2152.\n",
      "   2102.]\n"
     ]
    }
   ],
   "source": [
    "# top-100 words according to the largest total occurrence count\n",
    "highest_totaloccurrences_indices = np.argsort(-1*unifiedvocabulary_totaloccurrencecounts, axis=0)\n",
    "print(np.squeeze(unifiedvocabulary[highest_totaloccurrences_indices[0:100]]))\n",
    "print(np.squeeze(unifiedvocabulary_totaloccurrencecounts[highest_totaloccurrences_indices[0:100]]))"
   ]
  },
  {
   "cell_type": "code",
   "execution_count": 30,
   "id": "computational-thirty",
   "metadata": {},
   "outputs": [
    {
     "name": "stdout",
     "output_type": "stream",
     "text": [
      "['who' 'what' 'eat' 'stand' 'from' 'easy' 'always' 'full' 'i' 'friend'\n",
      " 'already' 'if' 'away' 'where' 'alone' 'when' 'whether' 'ebook' 'want'\n",
      " 'these' 'hop' 'now' 'hope' 'an' 'they' 'round' 'house' 'ever' 'since'\n",
      " 'how' 'however' 'every' 'us' 'use' 'almost' 'please' ';' 'rest' 'think'\n",
      " 'of' 'off' 'poor' 'bad' 'dress' '.' 'could' 'for' 'after' ',' 'will'\n",
      " 'expect' 'again' 'body' 'back' 'thing' 'which' '?' 'two' 'walk' 'might'\n",
      " 'in' 'come' 'all' 'too' 'tell' 'up' 'way' 'whole' 'such' 'time' 'even'\n",
      " 'care' 'start' 'strength' 'she' 'under' 'seem' 'that' 'see' 'ask' 'half'\n",
      " 'people' 'my' 'to' 'must' 'than' 'day' 'then' 'go' 'good' 'gutenberg'\n",
      " 'themselves' 'great' 'their' 'perhaps' 'several' 'we' 'arm' 'child'\n",
      " 'three']\n",
      "[19. 19. 19. 19. 19. 19. 19. 19. 19. 19. 19. 19. 19. 19. 19. 19. 19. 19.\n",
      " 19. 19. 19. 19. 19. 19. 19. 19. 19. 19. 19. 19. 19. 19. 19. 19. 19. 19.\n",
      " 19. 19. 19. 19. 19. 19. 19. 19. 19. 19. 19. 19. 19. 19. 19. 19. 19. 19.\n",
      " 19. 19. 19. 19. 19. 19. 19. 19. 19. 19. 19. 19. 19. 19. 19. 19. 19. 19.\n",
      " 19. 19. 19. 19. 19. 19. 19. 19. 19. 19. 19. 19. 19. 19. 19. 19. 19. 19.\n",
      " 19. 19. 19. 19. 19. 19. 19. 19. 19. 19.]\n"
     ]
    }
   ],
   "source": [
    "# top-100 words according to largest total document count\n",
    "highest_documentoccurrences_indices = np.argsort(-1*unifiedvocabulary_documentcounts, axis=0)\n",
    "print(np.squeeze(unifiedvocabulary[highest_documentoccurrences_indices[0:100]]))\n",
    "print(np.squeeze(unifiedvocabulary_documentcounts[highest_documentoccurrences_indices[0:100]]))"
   ]
  },
  {
   "cell_type": "code",
   "execution_count": 31,
   "id": "allied-oxygen",
   "metadata": {},
   "outputs": [
    {
     "name": "stdout",
     "output_type": "stream",
     "text": [
      "[',' 'the' 'be' '.' 'and' 'i' 'of' 'to' 'a' ';' '“' 'in' '”' 'have' 'that'\n",
      " 'it' 'he' 'you' 'his' '’' 'my' ':' 'her' 'as' 'not' 'with' 'me' 'for'\n",
      " 'she' 'but' '!' 'at' 's' '?' '--' 'all' 'on' '``' 'we' \"''\" 'him' 'do'\n",
      " 'this' 'so' 'whale' 'by' 'say' 'from' 'which' 'there' 'one' 'mr.' 'when'\n",
      " 'no' 'they' 'what' 'now' 'or' 'go' 'come' 'would' 'an' 'then' 'if' 'your'\n",
      " 'will' 'could' 'their' 'them' 'some' \"'s\" '_' 'know' 'see' 'out' 'nora'\n",
      " 'look' 'upon' 'up' 'like' '*' 'very' 't' 'elizabeth' 'more' 'into' 'take'\n",
      " 'can' 'who' 'time' 'make' 'seem' 'man' 'think' 'must' 'ship' 'such'\n",
      " 'hand' 'over' 'its']\n",
      "[2.85872812e+07 1.29150176e+07 5.42054066e+06 5.27021624e+06\n",
      " 4.45028815e+06 3.29346267e+06 3.23746719e+06 2.63805779e+06\n",
      " 1.86172647e+06 1.29660069e+06 1.26065743e+06 1.20628841e+06\n",
      " 1.14585978e+06 8.54876871e+05 7.07205253e+05 6.27811747e+05\n",
      " 5.69753116e+05 5.58058892e+05 4.74028568e+05 4.60294197e+05\n",
      " 3.84891411e+05 3.76579629e+05 3.62655608e+05 3.09836200e+05\n",
      " 2.86300134e+05 2.69918421e+05 2.63411608e+05 2.43928379e+05\n",
      " 2.21480261e+05 2.15528379e+05 1.96802976e+05 1.71454147e+05\n",
      " 1.69021905e+05 1.58184197e+05 1.56522450e+05 1.44963629e+05\n",
      " 1.35567313e+05 1.32283776e+05 1.19720155e+05 1.18824200e+05\n",
      " 1.16582724e+05 1.07961095e+05 1.01951187e+05 1.01293853e+05\n",
      " 9.70006947e+04 9.11732211e+04 8.52503053e+04 8.08517263e+04\n",
      " 7.33862605e+04 6.15323789e+04 5.39953053e+04 4.98406316e+04\n",
      " 4.79605895e+04 4.57010105e+04 4.35699895e+04 4.33844711e+04\n",
      " 4.17838000e+04 4.17815158e+04 3.95059579e+04 3.72904316e+04\n",
      " 3.40889974e+04 3.36147263e+04 3.35649895e+04 3.32562395e+04\n",
      " 3.30306184e+04 3.02045132e+04 2.87703658e+04 2.73215658e+04\n",
      " 2.65166316e+04 2.62296079e+04 2.57411158e+04 2.56393132e+04\n",
      " 2.51418395e+04 2.50747658e+04 2.50246816e+04 2.40124500e+04\n",
      " 2.38469368e+04 2.37041579e+04 2.23597132e+04 2.19424316e+04\n",
      " 2.12804737e+04 2.11803447e+04 2.00836711e+04 1.98614316e+04\n",
      " 1.95761974e+04 1.74694105e+04 1.71423658e+04 1.70199237e+04\n",
      " 1.69393132e+04 1.63756079e+04 1.63402000e+04 1.61963684e+04\n",
      " 1.60313263e+04 1.55078395e+04 1.53579368e+04 1.49743158e+04\n",
      " 1.35942632e+04 1.35719868e+04 1.28474842e+04 1.23381342e+04]\n"
     ]
    }
   ],
   "source": [
    "# top-100 words according to largest variance of count over all documents\n",
    "highest_countvariances_indices = np.argsort(-1*unifiedvocabulary_countvariances,axis=0)\n",
    "print(np.squeeze(unifiedvocabulary[highest_countvariances_indices[0:100]]))\n",
    "print(np.squeeze(unifiedvocabulary_countvariances[highest_countvariances_indices[0:100]]))"
   ]
  },
  {
   "cell_type": "markdown",
   "id": "stone-seating",
   "metadata": {},
   "source": [
    "### Exercise 2.3"
   ]
  },
  {
   "cell_type": "code",
   "execution_count": 32,
   "id": "advised-median",
   "metadata": {},
   "outputs": [
    {
     "name": "stderr",
     "output_type": "stream",
     "text": [
      "[nltk_data] Downloading package stopwords to\n",
      "[nltk_data]     C:\\Users\\tunde\\AppData\\Roaming\\nltk_data...\n",
      "[nltk_data]   Package stopwords is already up-to-date!\n"
     ]
    },
    {
     "data": {
      "text/plain": [
       "True"
      ]
     },
     "execution_count": 32,
     "metadata": {},
     "output_type": "execute_result"
    }
   ],
   "source": [
    "nltk.download('stopwords')"
   ]
  },
  {
   "cell_type": "code",
   "execution_count": 33,
   "id": "bottom-incentive",
   "metadata": {},
   "outputs": [],
   "source": [
    "#%% Vocabulary pruning\n",
    "nltkstopwords = nltk.corpus.stopwords.words('english')\n",
    "pruningdecisions = np.zeros((len(unifiedvocabulary),1))\n",
    "for k in range(len(unifiedvocabulary)):\n",
    "    # Rule 1: check the nltk stop word list\n",
    "    if (unifiedvocabulary[k] in nltkstopwords):\n",
    "        pruningdecisions[k] = 1\n",
    "    # Rule 2: if the word is too short\n",
    "    if (len(unifiedvocabulary[k]) < 2):\n",
    "        pruningdecisions[k] = 1\n",
    "      # Rule 3: if the word is too long\n",
    "    if (len(unifiedvocabulary[k]) > 20):\n",
    "        pruningdecisions[k] = 1\n",
    "    # Rule 4: if the word is in the top 1% of frequent words\n",
    "    if (k in highest_totaloccurrences_indices[0:int(np.floor(len(unifiedvocabulary)*0.01))]):\n",
    "        pruningdecisions[k] = 1\n",
    "    # Rule 5: if the word occurs less than 4 times\n",
    "    if(unifiedvocabulary_totaloccurrencecounts[k] < 4):\n",
    "        pruningdecisions[k] = 1\n",
    "    \n"
   ]
  },
  {
   "cell_type": "code",
   "execution_count": 34,
   "id": "ancient-discrimination",
   "metadata": {},
   "outputs": [
    {
     "name": "stdout",
     "output_type": "stream",
     "text": [
      "Top-100 words after pruning the unified vocabulary:\n",
      "\n",
      "['body' 'hard' 'touch' 'along' 'captain' 'negro' 'alice' 'understand'\n",
      " 'hester' 'therefore' 'need' 'darcy' 'fall' 'dorian' 'happy' 'seek' 'deep'\n",
      " 'carry' 'strong' 'lie' 'care' 'husband' 'start' 'receive' 'suddenly'\n",
      " 'strike' 'forget' 'sight' 'land' 'line' 'cause' 'person' 'book'\n",
      " 'consider' 'force' 'human' 'wild' 'drive' 'thousand' 'play' 'town' 'lip'\n",
      " 'everything' 'country' 'lead' 'lorry' 'rochester' 'scrooge' 'paper'\n",
      " 'wind' 'marry' 'add' 'cold' \"n't\" 'shake' 'pleasure' 'expect' 'dress'\n",
      " 'across' 'blood' 'glance' 'short' 'master' 'hair' 'else' 'hardly'\n",
      " 'listen' 'four' 'fell' 'subject' 'tear' 'clear' 'daughter' 'hundred'\n",
      " 'van' 'bennet' 'helmer' 'evening' 'mine' 'late' 'certainly' 'continue'\n",
      " 'sun' 'king' 'raise' 'able' 'observe' 'second' 'helsing' 'reach'\n",
      " 'forward' 'fact' 'five' 'silence' 'boy' 'stay' 'red' 'henry' 'ground'\n",
      " 'brother']\n",
      "[422. 420. 420. 418. 417. 415. 415. 413. 411. 411. 411. 411. 409. 407.\n",
      " 407. 407. 405. 405. 404. 401. 399. 397. 396. 395. 393. 392. 387. 385.\n",
      " 382. 381. 381. 378. 377. 376. 374. 373. 373. 370. 370. 368. 368. 368.\n",
      " 367. 366. 364. 363. 363. 362. 361. 359. 359. 358. 358. 358. 355. 353.\n",
      " 349. 347. 347. 347. 347. 345. 344. 343. 343. 341. 339. 339. 339. 339.\n",
      " 338. 337. 334. 333. 332. 331. 330. 330. 328. 328. 327. 326. 325. 325.\n",
      " 325. 325. 321. 321. 320. 319. 318. 318. 316. 316. 315. 314. 313. 312.\n",
      " 312. 309.]\n"
     ]
    }
   ],
   "source": [
    "print('Top-100 words after pruning the unified vocabulary:\\n')\n",
    "remaining_indices = np.squeeze(np.where(pruningdecisions==0)[0])\n",
    "remaining_vocabulary = unifiedvocabulary[remaining_indices]\n",
    "remainingvocabulary_totaloccurrencecounts = unifiedvocabulary_totaloccurrencecounts[remaining_indices]\n",
    "remaining_highest_totaloccurrences_indices = np.argsort(-1*remainingvocabulary_totaloccurrencecounts, axis=0)\n",
    "print(np.squeeze(remaining_vocabulary[remaining_highest_totaloccurrences_indices[0:100]]))\n",
    "print(np.squeeze(remainingvocabulary_totaloccurrencecounts[remaining_highest_totaloccurrences_indices[0:100]]))"
   ]
  },
  {
   "cell_type": "markdown",
   "id": "dried-annual",
   "metadata": {},
   "source": [
    "### Exercise 2.4"
   ]
  },
  {
   "cell_type": "code",
   "execution_count": 62,
   "id": "antique-baking",
   "metadata": {},
   "outputs": [
    {
     "data": {
      "image/png": "[encoded data removed]",
      "text/plain": [
       "<Figure size 576x432 with 1 Axes>"
      ]
     },
     "metadata": {
      "needs_background": "light"
     },
     "output_type": "display_data"
    }
   ],
   "source": [
    "import matplotlib.pyplot as plt\n",
    "horizontal_points = np.arange(1, len(unifiedvocabulary)+1) # rank\n",
    "word_frequencies = np.squeeze(unifiedvocabulary_totaloccurrencecounts[highest_totaloccurrences_indices])\n",
    "vertical_points = word_frequencies / sum(word_frequencies)\n",
    "\n",
    "a1 = 1\n",
    "a2 = 1.2\n",
    "a3 = 1.4\n",
    "zipf_frequencies1 = np.power(horizontal_points.astype(float), -1 * a1)\n",
    "zipf_points1 = zipf_frequencies1 / sum(zipf_frequencies1)\n",
    "\n",
    "zipf_frequencies2 = np.power(horizontal_points.astype(float), -1 * a2)\n",
    "zipf_points2 = zipf_frequencies2 / sum(zipf_frequencies2)\n",
    "\n",
    "zipf_frequencies3 = np.power(horizontal_points.astype(float), -1 * a3)\n",
    "zipf_points3 = zipf_frequencies3 / sum(zipf_frequencies3)\n",
    "\n",
    "plt.figure(figsize=(8,6))\n",
    "plt.title('Zipf\\'s law')\n",
    "plt.plot(horizontal_points[1:100], vertical_points[1:100])\n",
    "plt.plot(horizontal_points[1:100], zipf_points1[1:100])\n",
    "\n",
    "#plt.plot(horizontal_points[1:100], vertical_points[1:100])\n",
    "plt.plot(horizontal_points[1:100], zipf_points2[1:100])\n",
    "\n",
    "#plt.plot(horizontal_points[1:100], vertical_points[1:100])\n",
    "plt.plot(horizontal_points[1:100], zipf_points3[1:100])\n",
    "\n",
    "plt.xlabel('rank(w)')\n",
    "plt.ylabel('p(w)')\n",
    "plt.legend(['data', 'zipf(a=1)', 'zipf(a=1.2)', 'zipf(a=1.4)'], loc='best')\n",
    "plt.show() "
   ]
  },
  {
   "cell_type": "markdown",
   "id": "arabic-belarus",
   "metadata": {},
   "source": [
    "a = 1.4 fits best the Zipf's law."
   ]
  },
  {
   "cell_type": "code",
   "execution_count": null,
   "id": "middle-blowing",
   "metadata": {},
   "outputs": [],
   "source": []
  }
 ],
 "metadata": {
  "kernelspec": {
   "display_name": "Python 3",
   "language": "python",
   "name": "python3"
  },
  "language_info": {
   "codemirror_mode": {
    "name": "ipython",
    "version": 3
   },
   "file_extension": ".py",
   "mimetype": "text/x-python",
   "name": "python",
   "nbconvert_exporter": "python",
   "pygments_lexer": "ipython3",
   "version": "3.8.3"
  }
 },
 "nbformat": 4,
 "nbformat_minor": 5
}
