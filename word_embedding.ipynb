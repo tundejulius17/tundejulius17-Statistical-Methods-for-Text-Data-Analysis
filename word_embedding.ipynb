{
 "cells": [
  {
   "cell_type": "markdown",
   "id": "neither-tiffany",
   "metadata": {},
   "source": [
    "#### Exercise 11.3"
   ]
  },
  {
   "cell_type": "code",
   "execution_count": 1,
   "id": "positive-citizenship",
   "metadata": {},
   "outputs": [
    {
     "name": "stderr",
     "output_type": "stream",
     "text": [
      "C:\\Users\\tunde\\anaconda3\\lib\\site-packages\\gensim\\similarities\\__init__.py:15: UserWarning: The gensim.similarities.levenshtein submodule is disabled, because the optional Levenshtein package <https://pypi.org/project/python-Levenshtein/> is unavailable. Install Levenhstein (e.g. `pip install python-Levenshtein`) to suppress this warning.\n",
      "  warnings.warn(msg)\n"
     ]
    }
   ],
   "source": [
    "import nltk\n",
    "import numpy as np\n",
    "import gensim"
   ]
  },
  {
   "cell_type": "code",
   "execution_count": 2,
   "id": "recreational-favorite",
   "metadata": {},
   "outputs": [],
   "source": [
    "temp_file = open('hmm_sentences.txt','r', encoding='utf-8', errors='ignore')\n",
    "text_lines = temp_file.readlines()\n",
    "temp_file.close()"
   ]
  },
  {
   "cell_type": "code",
   "execution_count": 3,
   "id": "copyrighted-keyboard",
   "metadata": {},
   "outputs": [
    {
     "data": {
      "text/plain": [
       "1000"
      ]
     },
     "execution_count": 3,
     "metadata": {},
     "output_type": "execute_result"
    }
   ],
   "source": [
    "len(text_lines)"
   ]
  },
  {
   "cell_type": "code",
   "execution_count": 4,
   "id": "organic-metabolism",
   "metadata": {},
   "outputs": [],
   "source": [
    "hmm_sentences = []\n",
    "for line in text_lines:\n",
    "    temp_text = line.strip()\n",
    "    temp_text = ' '.join(temp_text.split())\n",
    "    hmm_sentences.append(temp_text)"
   ]
  },
  {
   "cell_type": "code",
   "execution_count": 5,
   "id": "living-spring",
   "metadata": {},
   "outputs": [
    {
     "data": {
      "text/plain": [
       "1000"
      ]
     },
     "execution_count": 5,
     "metadata": {},
     "output_type": "execute_result"
    }
   ],
   "source": [
    "len(hmm_sentences)"
   ]
  },
  {
   "cell_type": "code",
   "execution_count": 6,
   "id": "eastern-fairy",
   "metadata": {},
   "outputs": [],
   "source": [
    "# Tokenize downloaded texts and change them to NLTK format\n",
    "mydownloaded_nltk_texts = []\n",
    "for k in range(len(hmm_sentences)):\n",
    "    temp_tokenizedtext = nltk.word_tokenize(hmm_sentences[k])\n",
    "    temp_nltktext = nltk.Text(temp_tokenizedtext)\n",
    "    mydownloaded_nltk_texts.append(temp_nltktext)"
   ]
  },
  {
   "cell_type": "code",
   "execution_count": 7,
   "id": "ideal-japan",
   "metadata": {},
   "outputs": [
    {
     "data": {
      "text/plain": [
       "1000"
      ]
     },
     "execution_count": 7,
     "metadata": {},
     "output_type": "execute_result"
    }
   ],
   "source": [
    "len(mydownloaded_nltk_texts)"
   ]
  },
  {
   "cell_type": "code",
   "execution_count": 8,
   "id": "waiting-profile",
   "metadata": {},
   "outputs": [],
   "source": [
    "# Make all downloaded texts lowercase\n",
    "mydownloaded_lowercase_texts = []\n",
    "for k in range(len(mydownloaded_nltk_texts)):\n",
    "    temp_lowercase_text = []\n",
    "    for l in range(len(mydownloaded_nltk_texts[k])):\n",
    "        lowercase_word = mydownloaded_nltk_texts[k][l].lower()\n",
    "        temp_lowercase_text.append(lowercase_word)\n",
    "    temp_lowercasetest = nltk.Text(temp_lowercase_text)\n",
    "    mydownloaded_lowercase_texts.append(temp_lowercase_text)"
   ]
  },
  {
   "cell_type": "code",
   "execution_count": 9,
   "id": "secret-backing",
   "metadata": {},
   "outputs": [
    {
     "data": {
      "text/plain": [
       "['where', 'may', 'you', 'feed', '?']"
      ]
     },
     "execution_count": 9,
     "metadata": {},
     "output_type": "execute_result"
    }
   ],
   "source": [
    "mydownloaded_lowercase_texts[0]"
   ]
  },
  {
   "cell_type": "code",
   "execution_count": 10,
   "id": "loose-enhancement",
   "metadata": {},
   "outputs": [],
   "source": [
    "gensim_sentences = mydownloaded_lowercase_texts\n",
    "word2vecmodel = gensim.models.word2vec.Word2Vec(sentences=gensim_sentences, vector_size=5, window=3, \n",
    "                                               min_count=1, workers=4, sg=0)\n"
   ]
  },
  {
   "cell_type": "code",
   "execution_count": 11,
   "id": "decent-blocking",
   "metadata": {},
   "outputs": [
    {
     "data": {
      "text/plain": [
       "array([-0.3532374 ,  0.97565985,  0.6355194 , -0.6277016 ,  0.7025194 ],\n",
       "      dtype=float32)"
      ]
     },
     "execution_count": 11,
     "metadata": {},
     "output_type": "execute_result"
    }
   ],
   "source": [
    "word2vecmodel.wv['where']"
   ]
  },
  {
   "cell_type": "code",
   "execution_count": 12,
   "id": "appropriate-shareware",
   "metadata": {},
   "outputs": [
    {
     "data": {
      "text/plain": [
       "array([-0.10362475,  1.0357132 ,  0.5709109 , -0.32588273,  0.71481293],\n",
       "      dtype=float32)"
      ]
     },
     "execution_count": 12,
     "metadata": {},
     "output_type": "execute_result"
    }
   ],
   "source": [
    "word2vecmodel.wv['dog']"
   ]
  },
  {
   "cell_type": "code",
   "execution_count": 13,
   "id": "boring-balloon",
   "metadata": {},
   "outputs": [
    {
     "data": {
      "text/plain": [
       "array([-0.09376109,  1.0055654 ,  0.82805413, -0.2995348 ,  0.7795933 ],\n",
       "      dtype=float32)"
      ]
     },
     "execution_count": 13,
     "metadata": {},
     "output_type": "execute_result"
    }
   ],
   "source": [
    "word2vecmodel.wv['explain']"
   ]
  },
  {
   "cell_type": "code",
   "execution_count": null,
   "id": "solid-upper",
   "metadata": {},
   "outputs": [],
   "source": []
  }
 ],
 "metadata": {
  "kernelspec": {
   "display_name": "Python 3",
   "language": "python",
   "name": "python3"
  },
  "language_info": {
   "codemirror_mode": {
    "name": "ipython",
    "version": 3
   },
   "file_extension": ".py",
   "mimetype": "text/x-python",
   "name": "python",
   "nbconvert_exporter": "python",
   "pygments_lexer": "ipython3",
   "version": "3.8.3"
  }
 },
 "nbformat": 4,
 "nbformat_minor": 5
}
